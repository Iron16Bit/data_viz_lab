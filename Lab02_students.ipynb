{
 "cells": [
  {
   "cell_type": "markdown",
   "metadata": {},
   "source": [
    "title: \"Data visualization lab\"\n",
    "\n",
    "author: \"Shahryar Noei\"\n",
    "\n",
    "date: \"Mar 12, 2025\"\n",
    "\n",
    "topic: STILL DATA CLEANING"
   ]
  },
  {
   "cell_type": "code",
   "execution_count": 2,
   "metadata": {},
   "outputs": [],
   "source": [
    "import numpy as np \n",
    "import pandas as pd \n",
    "import matplotlib.pyplot as plt\n",
    "pd.set_option(\"display.max_columns\", None)\n",
    "pd.set_option(\"display.float_format\", \"{:.2f}\".format)\n",
    "import warnings\n",
    "warnings.filterwarnings('ignore')\n",
    "np.random.seed(4561)"
   ]
  },
  {
   "cell_type": "markdown",
   "metadata": {},
   "source": [
    "## Lord of the Rings!\n",
    "\n",
    "Here is a practical example on some untidy data created from [this data from the Lord of the Rings Trilogy](https://github.com/jennybc/lotr)."
   ]
  },
  {
   "cell_type": "code",
   "execution_count": 3,
   "metadata": {},
   "outputs": [
    {
     "name": "stdout",
     "output_type": "stream",
     "text": [
      "                         Film    Race  Female  Male\n",
      "0  The Fellowship Of The Ring     Elf    1229   971\n",
      "1  The Fellowship Of The Ring  Hobbit      14  3644\n",
      "2  The Fellowship Of The Ring     Man       0  1995\n",
      "3              The Two Towers     Elf     331   513\n",
      "4              The Two Towers  Hobbit       0  2463\n"
     ]
    }
   ],
   "source": [
    "lotr = pd.read_csv(\"./Data/lotr_untidy.csv\")\n",
    "print(lotr.head())"
   ]
  },
  {
   "cell_type": "markdown",
   "metadata": {},
   "source": [
    "We have three rows per movie. For each movie, we have the total number of words spoken by characters of different races and genders."
   ]
  },
  {
   "cell_type": "code",
   "execution_count": 4,
   "metadata": {},
   "outputs": [],
   "source": [
    "fship = lotr[lotr[\"Film\"].str.contains(\"Fellowship\")]\n",
    "ttow = lotr[lotr[\"Film\"].str.contains(\"Towers\")]\n",
    "rking = lotr[lotr[\"Film\"].str.contains(\"King\")]"
   ]
  },
  {
   "cell_type": "code",
   "execution_count": 5,
   "metadata": {},
   "outputs": [
    {
     "data": {
      "text/html": [
       "<div>\n",
       "<style scoped>\n",
       "    .dataframe tbody tr th:only-of-type {\n",
       "        vertical-align: middle;\n",
       "    }\n",
       "\n",
       "    .dataframe tbody tr th {\n",
       "        vertical-align: top;\n",
       "    }\n",
       "\n",
       "    .dataframe thead th {\n",
       "        text-align: right;\n",
       "    }\n",
       "</style>\n",
       "<table border=\"1\" class=\"dataframe\">\n",
       "  <thead>\n",
       "    <tr style=\"text-align: right;\">\n",
       "      <th></th>\n",
       "      <th>Film</th>\n",
       "      <th>Race</th>\n",
       "      <th>Female</th>\n",
       "      <th>Male</th>\n",
       "    </tr>\n",
       "  </thead>\n",
       "  <tbody>\n",
       "    <tr>\n",
       "      <th>6</th>\n",
       "      <td>The Return Of The King</td>\n",
       "      <td>Elf</td>\n",
       "      <td>183</td>\n",
       "      <td>510</td>\n",
       "    </tr>\n",
       "    <tr>\n",
       "      <th>7</th>\n",
       "      <td>The Return Of The King</td>\n",
       "      <td>Hobbit</td>\n",
       "      <td>2</td>\n",
       "      <td>2673</td>\n",
       "    </tr>\n",
       "    <tr>\n",
       "      <th>8</th>\n",
       "      <td>The Return Of The King</td>\n",
       "      <td>Man</td>\n",
       "      <td>268</td>\n",
       "      <td>2459</td>\n",
       "    </tr>\n",
       "  </tbody>\n",
       "</table>\n",
       "</div>"
      ],
      "text/plain": [
       "                     Film    Race  Female  Male\n",
       "6  The Return Of The King     Elf     183   510\n",
       "7  The Return Of The King  Hobbit       2  2673\n",
       "8  The Return Of The King     Man     268  2459"
      ]
     },
     "execution_count": 5,
     "metadata": {},
     "output_type": "execute_result"
    }
   ],
   "source": [
    "rking.head()"
   ]
  },
  {
   "cell_type": "markdown",
   "metadata": {},
   "source": [
    "You could imagine finding these three tables as separate worksheets in an Excel workbook. Or hanging out in some cells on the side of a worksheet that contains the underlying data raw data. Or as tables on a webpage or in a Word document.\n",
    "\n",
    "This format makes it easy for a *human* to look up the number of words spoken by female elves in The Two Towers. But this format actually makes it pretty hard for a *computer* to pull out such counts and, more importantly, to compute on them or graph them.\n",
    "\n",
    "### Exercises\n",
    "\n",
    "By working on the data as they are, answer these questions:\n",
    "\n",
    "1. What's the total number of words spoken by male hobbits?\n",
    "2. Which race has the highest total word count across all three movies, regardless of gender? (hint: `groupby` function)\n",
    "3. Does a certain race dominate a movie?"
   ]
  },
  {
   "cell_type": "markdown",
   "metadata": {},
   "source": [
    "# 1. Total words spoken by male hobbits\n",
    "\n"
   ]
  },
  {
   "cell_type": "code",
   "execution_count": 6,
   "metadata": {},
   "outputs": [
    {
     "name": "stdout",
     "output_type": "stream",
     "text": [
      "8780\n"
     ]
    }
   ],
   "source": [
    "hobbits = lotr[lotr[\"Race\"].str.contains(\"Hobbit\")]\n",
    "male_hobbits = hobbits[\"Male\"]\n",
    "total = 0\n",
    "for val in male_hobbits:\n",
    "    total += val\n",
    "print(total)"
   ]
  },
  {
   "cell_type": "markdown",
   "metadata": {},
   "source": [
    "# 2. Race with highest word count"
   ]
  },
  {
   "cell_type": "code",
   "execution_count": 7,
   "metadata": {},
   "outputs": [
    {
     "name": "stdout",
     "output_type": "stream",
     "text": [
      "Hobbit\n"
     ]
    }
   ],
   "source": [
    "races = lotr.groupby(\"Race\")\n",
    "race_df = races.first()\n",
    "\n",
    "# Add a new column for total\n",
    "race_df[\"Total\"] = race_df[\"Male\"] + race_df[\"Female\"]\n",
    "\n",
    "race_most_characters = race_df[\"Total\"].idxmax()\n",
    "\n",
    "print(race_most_characters)\n"
   ]
  },
  {
   "cell_type": "markdown",
   "metadata": {},
   "source": [
    "# 3. Dominant race per movie"
   ]
  },
  {
   "cell_type": "code",
   "execution_count": 8,
   "metadata": {},
   "outputs": [
    {
     "name": "stdout",
     "output_type": "stream",
     "text": [
      "fship:\t Hobbit\n",
      "ttow:\t Man\n",
      "rking:\t Man\n"
     ]
    }
   ],
   "source": [
    "races_fship = fship.groupby(\"Race\").first()\n",
    "races_ttow = ttow.groupby(\"Race\").first()\n",
    "races_rking = rking.groupby(\"Race\").first()\n",
    "\n",
    "races_fship[\"Total\"] = races_fship[\"Male\"] + races_fship[\"Female\"]\n",
    "races_ttow[\"Total\"] = races_ttow[\"Male\"] + races_ttow[\"Female\"]\n",
    "races_rking[\"Total\"] = races_rking[\"Male\"] + races_rking[\"Female\"]\n",
    "\n",
    "most_fship = races_fship[\"Total\"].idxmax()\n",
    "most_ttow = races_ttow[\"Total\"].idxmax()\n",
    "most_rking = races_rking[\"Total\"].idxmax()\n",
    "\n",
    "print(\"fship:\\t\", most_fship)\n",
    "print(\"ttow:\\t\", most_ttow)\n",
    "print(\"rking:\\t\", most_rking)"
   ]
  },
  {
   "cell_type": "markdown",
   "metadata": {},
   "source": [
    "How well does your approach scale if there were many more movies or if I provided you with updated data that includes all the `Races` (e.g. dwarves, orcs, etc.)?\n",
    "\n",
    "\n",
    "## From untidy to tidy\n",
    "\n",
    "### Import untidy Lord of the Rings data\n",
    "\n",
    "For the sake of this lesson, I loaded the (untidy) data from a single file and then split them into three data frames `fship`, `ttow`, and `rking`.\n",
    "\n",
    "I assume that data can be found as three plain text, delimited files, one for each film. How to liberate data from spreadsheets or tables in word processing documents is beyond the scope of this tutorial.\n"
   ]
  },
  {
   "cell_type": "markdown",
   "metadata": {},
   "source": [
    "So we have one data frame per film, each with a common set of 4 variables. Step one in tidying this data is to glue them together into one data frame, stacking them up row wise. This is called row binding"
   ]
  },
  {
   "cell_type": "code",
   "execution_count": 9,
   "metadata": {},
   "outputs": [
    {
     "name": "stdout",
     "output_type": "stream",
     "text": [
      "Combined LOTR Data:\n",
      "                         Film    Race  Female  Male\n",
      "0  The Fellowship Of The Ring     Elf    1229   971\n",
      "1  The Fellowship Of The Ring  Hobbit      14  3644\n",
      "2  The Fellowship Of The Ring     Man       0  1995\n",
      "3              The Two Towers     Elf     331   513\n",
      "4              The Two Towers  Hobbit       0  2463\n"
     ]
    }
   ],
   "source": [
    "lotr_combined = pd.concat([fship, ttow, rking], ignore_index=True)\n",
    "print(\"Combined LOTR Data:\")\n",
    "print(lotr_combined.head())"
   ]
  },
  {
   "cell_type": "markdown",
   "metadata": {},
   "source": [
    "### Tidy the untidy Lord of the Rings data\n",
    "\n",
    "We are still violating one of the fundamental principles of *tidy data*. \"Word count\" is a fundamental variable in our dataset and it's currently spread out over two variables, `Female` and `Male`. \n",
    "\n",
    "Conceptually, we need to gather up the word counts into a single variable and create a new variable `Gender` to track whether each count refers to females or males: we are moving from wide to long formats.\n",
    "\n",
    "### Exercise: Tidy the dataset"
   ]
  },
  {
   "cell_type": "code",
   "execution_count": 10,
   "metadata": {},
   "outputs": [
    {
     "name": "stdout",
     "output_type": "stream",
     "text": [
      "                          Film    Race  Gender  Total\n",
      "0   The Fellowship Of The Ring     Elf  Female   1229\n",
      "1   The Fellowship Of The Ring  Hobbit  Female     14\n",
      "2   The Fellowship Of The Ring     Man  Female      0\n",
      "3               The Two Towers     Elf  Female    331\n",
      "4               The Two Towers  Hobbit  Female      0\n",
      "5               The Two Towers     Man  Female    401\n",
      "6       The Return Of The King     Elf  Female    183\n",
      "7       The Return Of The King  Hobbit  Female      2\n",
      "8       The Return Of The King     Man  Female    268\n",
      "9   The Fellowship Of The Ring     Elf    Male    971\n",
      "10  The Fellowship Of The Ring  Hobbit    Male   3644\n",
      "11  The Fellowship Of The Ring     Man    Male   1995\n",
      "12              The Two Towers     Elf    Male    513\n",
      "13              The Two Towers  Hobbit    Male   2463\n",
      "14              The Two Towers     Man    Male   3589\n",
      "15      The Return Of The King     Elf    Male    510\n",
      "16      The Return Of The King  Hobbit    Male   2673\n",
      "17      The Return Of The King     Man    Male   2459\n"
     ]
    }
   ],
   "source": [
    "lotr_tidy = pd.melt(lotr_combined, id_vars=[\"Film\", \"Race\"], var_name=\"Gender\", value_name=\"Total\")\n",
    "print(lotr_tidy)"
   ]
  },
  {
   "cell_type": "markdown",
   "metadata": {},
   "source": [
    "## Tidy Lord of the Rings data\n",
    "\n",
    "Notice that tidy data is generally *taller and narrower*. It doesn't fit nicely on the page. Certain elements get repeated a lot, e.g. `Hobbit`. For these reasons, we often instinctively resist *tidy* data as inefficient or ugly. But, unless and until you're making the final product for a textual presentation of data, ignore your yearning to see the data in a compact form.\n",
    "\n",
    "## Benefits of tidy data\n",
    "\n",
    "With the data in tidy form, it's natural to *get a computer* to do further summarization or to make a figure. This assumes you're using language that is \"data-aware\", which R certainly is.\n",
    "\n",
    "Now revisit the last exercises and accomplish the same tasks using the tidy LOTR data.\n",
    "\n",
    "### What's the total number of words spoken by male hobbits?"
   ]
  },
  {
   "cell_type": "code",
   "execution_count": 11,
   "metadata": {},
   "outputs": [
    {
     "name": "stdout",
     "output_type": "stream",
     "text": [
      "8780\n"
     ]
    }
   ],
   "source": [
    "hobbits = lotr_tidy[lotr_tidy[\"Race\"].str.contains(\"Hobbit\")]\n",
    "male_hobbits = hobbits[hobbits[\"Gender\"].str.contains(\"Male\")]\n",
    "total = 0\n",
    "for val in male_hobbits[\"Total\"]:\n",
    "    total += val\n",
    "print(total)"
   ]
  },
  {
   "cell_type": "markdown",
   "metadata": {},
   "source": [
    "### Which race has the highest total word count across all three movies?"
   ]
  },
  {
   "cell_type": "code",
   "execution_count": 12,
   "metadata": {},
   "outputs": [
    {
     "data": {
      "text/plain": [
       "'Hobbit'"
      ]
     },
     "execution_count": 12,
     "metadata": {},
     "output_type": "execute_result"
    }
   ],
   "source": [
    "grouped = lotr_tidy.groupby(\"Race\").agg(\"sum\")\n",
    "top_race = grouped[\"Total\"].idxmax()\n",
    "top_race"
   ]
  },
  {
   "cell_type": "markdown",
   "metadata": {},
   "source": [
    "### Does a certain race dominate a movie? Does the dominant race differ across the movies?"
   ]
  },
  {
   "cell_type": "markdown",
   "metadata": {},
   "source": [
    "# Data manipulation\n",
    "\n",
    "## Data set: baby names\n",
    "\n",
    "Data file: `bnames.csv.bz2`"
   ]
  },
  {
   "cell_type": "markdown",
   "metadata": {},
   "source": [
    "Load the dataset and display the first and the last 15 rows"
   ]
  },
  {
   "cell_type": "code",
   "execution_count": 13,
   "metadata": {},
   "outputs": [
    {
     "name": "stdout",
     "output_type": "stream",
     "text": [
      "    year     name  prop  sex soundex\n",
      "0   1880     John  0.08  boy    J500\n",
      "1   1880  William  0.08  boy    W450\n",
      "2   1880    James  0.05  boy    J520\n",
      "3   1880  Charles  0.05  boy    C642\n",
      "4   1880   George  0.04  boy    G620\n",
      "5   1880    Frank  0.03  boy    F652\n",
      "6   1880   Joseph  0.02  boy    J210\n",
      "7   1880   Thomas  0.02  boy    T520\n",
      "8   1880    Henry  0.02  boy    H560\n",
      "9   1880   Robert  0.02  boy    R163\n",
      "10  1880   Edward  0.02  boy    E363\n",
      "11  1880    Harry  0.02  boy    H600\n",
      "12  1880   Walter  0.01  boy    W436\n",
      "13  1880   Arthur  0.01  boy    A636\n",
      "14  1880     Fred  0.01  boy    F630\n",
      "        year      name  prop   sex soundex\n",
      "257985  2008    Neveah  0.00  girl    N100\n",
      "257986  2008    Amaris  0.00  girl    A562\n",
      "257987  2008  Hadassah  0.00  girl    H320\n",
      "257988  2008     Dania  0.00  girl    D500\n",
      "257989  2008    Hailie  0.00  girl    H400\n",
      "257990  2008    Jamiya  0.00  girl    J500\n",
      "257991  2008     Kathy  0.00  girl    K300\n",
      "257992  2008    Laylah  0.00  girl    L400\n",
      "257993  2008      Riya  0.00  girl    R000\n",
      "257994  2008      Diya  0.00  girl    D000\n",
      "257995  2008  Carleigh  0.00  girl    C642\n",
      "257996  2008     Iyana  0.00  girl    I500\n",
      "257997  2008    Kenley  0.00  girl    K540\n",
      "257998  2008    Sloane  0.00  girl    S450\n",
      "257999  2008   Elianna  0.00  girl    E450\n"
     ]
    }
   ],
   "source": [
    "bnames = pd.read_csv(\"./Data/bnames.csv.bz2\")\n",
    "print(bnames.head(15))\n",
    "print(bnames.tail(15))"
   ]
  },
  {
   "cell_type": "markdown",
   "metadata": {},
   "source": [
    "Your turn! Extract a name (possibly yours or a similar one). Plot the trend over time. What kind of geometry should you use for such a plot? Do you need to specify extra properties (e.g. aesthetics)?"
   ]
  },
  {
   "cell_type": "code",
   "execution_count": 36,
   "metadata": {},
   "outputs": [
    {
     "data": {
      "text/html": [
       "<div>\n",
       "<style scoped>\n",
       "    .dataframe tbody tr th:only-of-type {\n",
       "        vertical-align: middle;\n",
       "    }\n",
       "\n",
       "    .dataframe tbody tr th {\n",
       "        vertical-align: top;\n",
       "    }\n",
       "\n",
       "    .dataframe thead th {\n",
       "        text-align: right;\n",
       "    }\n",
       "</style>\n",
       "<table border=\"1\" class=\"dataframe\">\n",
       "  <thead>\n",
       "    <tr style=\"text-align: right;\">\n",
       "      <th></th>\n",
       "      <th>year</th>\n",
       "      <th>name</th>\n",
       "      <th>prop</th>\n",
       "      <th>sex</th>\n",
       "      <th>soundex</th>\n",
       "    </tr>\n",
       "  </thead>\n",
       "  <tbody>\n",
       "    <tr>\n",
       "      <th>0</th>\n",
       "      <td>1880</td>\n",
       "      <td>John</td>\n",
       "      <td>0.08</td>\n",
       "      <td>boy</td>\n",
       "      <td>J500</td>\n",
       "    </tr>\n",
       "    <tr>\n",
       "      <th>353</th>\n",
       "      <td>1880</td>\n",
       "      <td>Johnnie</td>\n",
       "      <td>0.00</td>\n",
       "      <td>boy</td>\n",
       "      <td>J500</td>\n",
       "    </tr>\n",
       "    <tr>\n",
       "      <th>386</th>\n",
       "      <td>1880</td>\n",
       "      <td>Johnny</td>\n",
       "      <td>0.00</td>\n",
       "      <td>boy</td>\n",
       "      <td>J500</td>\n",
       "    </tr>\n",
       "    <tr>\n",
       "      <th>413</th>\n",
       "      <td>1880</td>\n",
       "      <td>Johnie</td>\n",
       "      <td>0.00</td>\n",
       "      <td>boy</td>\n",
       "      <td>J500</td>\n",
       "    </tr>\n",
       "    <tr>\n",
       "      <th>511</th>\n",
       "      <td>1880</td>\n",
       "      <td>Johnson</td>\n",
       "      <td>0.00</td>\n",
       "      <td>boy</td>\n",
       "      <td>J525</td>\n",
       "    </tr>\n",
       "  </tbody>\n",
       "</table>\n",
       "</div>"
      ],
      "text/plain": [
       "     year     name  prop  sex soundex\n",
       "0    1880     John  0.08  boy    J500\n",
       "353  1880  Johnnie  0.00  boy    J500\n",
       "386  1880   Johnny  0.00  boy    J500\n",
       "413  1880   Johnie  0.00  boy    J500\n",
       "511  1880  Johnson  0.00  boy    J525"
      ]
     },
     "execution_count": 36,
     "metadata": {},
     "output_type": "execute_result"
    }
   ],
   "source": [
    "selected_name = bnames[bnames[\"name\"].str.contains(\"John\")]\n",
    "selected_name.head()"
   ]
  },
  {
   "cell_type": "markdown",
   "metadata": {},
   "source": [
    "The plots look funny... what's going on?"
   ]
  },
  {
   "cell_type": "markdown",
   "metadata": {},
   "source": [
    "### Practice with pandas functions\n",
    "\n",
    "1. In which year was your name (or a similar one) most popular? Least popular?\n",
    "2. Reorder the data frame containing the name of your choice from highest to lowest popularity\n",
    "3. On the data frame containing the name of your choice, add a new column that gives the number of babies per thousand."
   ]
  },
  {
   "cell_type": "code",
   "execution_count": 60,
   "metadata": {},
   "outputs": [
    {
     "name": "stdout",
     "output_type": "stream",
     "text": [
      "Most popular year:  1880\n",
      "Least popular year:  1952\n"
     ]
    },
    {
     "data": {
      "text/html": [
       "<div>\n",
       "<style scoped>\n",
       "    .dataframe tbody tr th:only-of-type {\n",
       "        vertical-align: middle;\n",
       "    }\n",
       "\n",
       "    .dataframe tbody tr th {\n",
       "        vertical-align: top;\n",
       "    }\n",
       "\n",
       "    .dataframe thead th {\n",
       "        text-align: right;\n",
       "    }\n",
       "</style>\n",
       "<table border=\"1\" class=\"dataframe\">\n",
       "  <thead>\n",
       "    <tr style=\"text-align: right;\">\n",
       "      <th></th>\n",
       "      <th>year</th>\n",
       "      <th>name</th>\n",
       "      <th>prop</th>\n",
       "      <th>sex</th>\n",
       "      <th>soundex</th>\n",
       "      <th>baby_per_thousand</th>\n",
       "    </tr>\n",
       "  </thead>\n",
       "  <tbody>\n",
       "    <tr>\n",
       "      <th>0</th>\n",
       "      <td>1880</td>\n",
       "      <td>John</td>\n",
       "      <td>0.08</td>\n",
       "      <td>boy</td>\n",
       "      <td>J500</td>\n",
       "      <td>81.54</td>\n",
       "    </tr>\n",
       "    <tr>\n",
       "      <th>353</th>\n",
       "      <td>1880</td>\n",
       "      <td>Johnnie</td>\n",
       "      <td>0.00</td>\n",
       "      <td>boy</td>\n",
       "      <td>J500</td>\n",
       "      <td>0.20</td>\n",
       "    </tr>\n",
       "    <tr>\n",
       "      <th>386</th>\n",
       "      <td>1880</td>\n",
       "      <td>Johnny</td>\n",
       "      <td>0.00</td>\n",
       "      <td>boy</td>\n",
       "      <td>J500</td>\n",
       "      <td>0.17</td>\n",
       "    </tr>\n",
       "    <tr>\n",
       "      <th>413</th>\n",
       "      <td>1880</td>\n",
       "      <td>Johnie</td>\n",
       "      <td>0.00</td>\n",
       "      <td>boy</td>\n",
       "      <td>J500</td>\n",
       "      <td>0.15</td>\n",
       "    </tr>\n",
       "    <tr>\n",
       "      <th>511</th>\n",
       "      <td>1880</td>\n",
       "      <td>Johnson</td>\n",
       "      <td>0.00</td>\n",
       "      <td>boy</td>\n",
       "      <td>J525</td>\n",
       "      <td>0.11</td>\n",
       "    </tr>\n",
       "    <tr>\n",
       "      <th>...</th>\n",
       "      <td>...</td>\n",
       "      <td>...</td>\n",
       "      <td>...</td>\n",
       "      <td>...</td>\n",
       "      <td>...</td>\n",
       "      <td>...</td>\n",
       "    </tr>\n",
       "    <tr>\n",
       "      <th>236864</th>\n",
       "      <td>1987</td>\n",
       "      <td>John</td>\n",
       "      <td>0.00</td>\n",
       "      <td>girl</td>\n",
       "      <td>J500</td>\n",
       "      <td>0.11</td>\n",
       "    </tr>\n",
       "    <tr>\n",
       "      <th>236988</th>\n",
       "      <td>1987</td>\n",
       "      <td>Johnna</td>\n",
       "      <td>0.00</td>\n",
       "      <td>girl</td>\n",
       "      <td>J500</td>\n",
       "      <td>0.09</td>\n",
       "    </tr>\n",
       "    <tr>\n",
       "      <th>237908</th>\n",
       "      <td>1988</td>\n",
       "      <td>Johnna</td>\n",
       "      <td>0.00</td>\n",
       "      <td>girl</td>\n",
       "      <td>J500</td>\n",
       "      <td>0.10</td>\n",
       "    </tr>\n",
       "    <tr>\n",
       "      <th>237986</th>\n",
       "      <td>1988</td>\n",
       "      <td>John</td>\n",
       "      <td>0.00</td>\n",
       "      <td>girl</td>\n",
       "      <td>J500</td>\n",
       "      <td>0.09</td>\n",
       "    </tr>\n",
       "    <tr>\n",
       "      <th>238968</th>\n",
       "      <td>1989</td>\n",
       "      <td>Johnna</td>\n",
       "      <td>0.00</td>\n",
       "      <td>girl</td>\n",
       "      <td>J500</td>\n",
       "      <td>0.09</td>\n",
       "    </tr>\n",
       "  </tbody>\n",
       "</table>\n",
       "<p>954 rows × 6 columns</p>\n",
       "</div>"
      ],
      "text/plain": [
       "        year     name  prop   sex soundex  baby_per_thousand\n",
       "0       1880     John  0.08   boy    J500              81.54\n",
       "353     1880  Johnnie  0.00   boy    J500               0.20\n",
       "386     1880   Johnny  0.00   boy    J500               0.17\n",
       "413     1880   Johnie  0.00   boy    J500               0.15\n",
       "511     1880  Johnson  0.00   boy    J525               0.11\n",
       "...      ...      ...   ...   ...     ...                ...\n",
       "236864  1987     John  0.00  girl    J500               0.11\n",
       "236988  1987   Johnna  0.00  girl    J500               0.09\n",
       "237908  1988   Johnna  0.00  girl    J500               0.10\n",
       "237986  1988     John  0.00  girl    J500               0.09\n",
       "238968  1989   Johnna  0.00  girl    J500               0.09\n",
       "\n",
       "[954 rows x 6 columns]"
      ]
     },
     "execution_count": 60,
     "metadata": {},
     "output_type": "execute_result"
    }
   ],
   "source": [
    "name_max = selected_name[\"prop\"].idxmax()\n",
    "print(\"Most popular year: \", bnames.iloc[name_max][\"year\"])\n",
    "\n",
    "name_min = selected_name[\"prop\"].idxmin()\n",
    "print(\"Least popular year: \", bnames.iloc[name_min][\"year\"])\n",
    "\n",
    "sorted_selected = selected_name.sort_values(\"prop\", ascending=False)\n",
    "\n",
    "selected_name[\"baby_per_thousand\"] = selected_name[\"prop\"] * 1000\n",
    "selected_name"
   ]
  },
  {
   "cell_type": "markdown",
   "metadata": {},
   "source": [
    "## Combining datasets"
   ]
  },
  {
   "cell_type": "code",
   "execution_count": 61,
   "metadata": {},
   "outputs": [],
   "source": [
    "instr = pd.DataFrame({\n",
    "    \"name\": [\"John\", \"Paul\", \"George\", \"Ringo\", \"Stuart\", \"Pete\"],\n",
    "    \"instrument\": [\"guitar\", \"bass\", \"guitar\", \"drums\", \"bass\", \"drums\"]\n",
    "})\n",
    "people = pd.DataFrame({\n",
    "    \"name\": [\"John\", \"Paul\", \"George\", \"Ringo\", \"Brian\"],\n",
    "    \"band\": [True, True, True, True, False]\n",
    "})"
   ]
  },
  {
   "cell_type": "markdown",
   "metadata": {},
   "source": [
    "Try all the different joins"
   ]
  },
  {
   "cell_type": "code",
   "execution_count": 62,
   "metadata": {},
   "outputs": [
    {
     "name": "stdout",
     "output_type": "stream",
     "text": [
      "     name instrument  band\n",
      "0    John     guitar  True\n",
      "1    Paul       bass  True\n",
      "2  George     guitar  True\n",
      "3   Ringo      drums  True\n",
      "4  Stuart       bass   NaN\n",
      "5    Pete      drums   NaN\n",
      "     name instrument   band\n",
      "0    John     guitar   True\n",
      "1    Paul       bass   True\n",
      "2  George     guitar   True\n",
      "3   Ringo      drums   True\n",
      "4   Brian        NaN  False\n",
      "     name instrument  band\n",
      "0    John     guitar  True\n",
      "1    Paul       bass  True\n",
      "2  George     guitar  True\n",
      "3   Ringo      drums  True\n",
      "     name instrument   band\n",
      "0   Brian        NaN  False\n",
      "1  George     guitar   True\n",
      "2    John     guitar   True\n",
      "3    Paul       bass   True\n",
      "4    Pete      drums    NaN\n",
      "5   Ringo      drums   True\n",
      "6  Stuart       bass    NaN\n"
     ]
    }
   ],
   "source": [
    "left_join = instr.merge(people, how=\"left\")\n",
    "right_join = instr.merge(people, how=\"right\")\n",
    "inner_join = instr.merge(people, how=\"inner\")\n",
    "full_join = instr.merge(people, how=\"outer\")\n",
    "\n",
    "print(left_join)\n",
    "print(right_join)\n",
    "print(inner_join)\n",
    "print(full_join)"
   ]
  },
  {
   "cell_type": "code",
   "execution_count": 16,
   "metadata": {},
   "outputs": [],
   "source": [
    "people[\"instrument\"] = [\"vocals\", \"vocals\", \"backup\", \"backup\", \"manager\"]"
   ]
  },
  {
   "cell_type": "markdown",
   "metadata": {},
   "source": [
    "How would you combine `instr` and `people` now that `people` has this additional column?"
   ]
  },
  {
   "cell_type": "code",
   "execution_count": 17,
   "metadata": {},
   "outputs": [
    {
     "name": "stdout",
     "output_type": "stream",
     "text": [
      "      name instrument   band\n",
      "0    Brian    manager  False\n",
      "1   George     backup   True\n",
      "2   George     guitar    NaN\n",
      "3     John     guitar    NaN\n",
      "4     John     vocals   True\n",
      "5     Paul       bass    NaN\n",
      "6     Paul     vocals   True\n",
      "7     Pete      drums    NaN\n",
      "8    Ringo     backup   True\n",
      "9    Ringo      drums    NaN\n",
      "10  Stuart       bass    NaN\n"
     ]
    }
   ],
   "source": [
    "full_join_wrong = instr.merge(people, how=\"outer\")\n",
    "print(full_join_wrong)"
   ]
  },
  {
   "cell_type": "code",
   "execution_count": 18,
   "metadata": {},
   "outputs": [
    {
     "name": "stdout",
     "output_type": "stream",
     "text": [
      "     name instrument_x   band instrument_y\n",
      "0   Brian          NaN  False      manager\n",
      "1  George       guitar   True       backup\n",
      "2    John       guitar   True       vocals\n",
      "3    Paul         bass   True       vocals\n",
      "4    Pete        drums    NaN          NaN\n",
      "5   Ringo        drums   True       backup\n",
      "6  Stuart         bass    NaN          NaN\n"
     ]
    }
   ],
   "source": [
    "full_join_updated = instr.merge(people, on=\"name\", how=\"outer\")\n",
    "print(full_join_updated)"
   ]
  },
  {
   "cell_type": "markdown",
   "metadata": {},
   "source": [
    "### Exercise\n",
    "\n",
    "Read the \"births.csv\" file attached to this lab.\n",
    "\n",
    "Convert from proportions of baby names to absolute numbers by combining `bnames` with this new data set, and then performing the proper calculation.\n",
    "\n",
    "Compute how many people with each name were born over all years.\n",
    "\n",
    "Repeat the above, this time using `soundex` instead of `name`, thus answering the question: what is the most common sound? Then find out what name it corresponds to (hint: use another join)."
   ]
  },
  {
   "cell_type": "code",
   "execution_count": 102,
   "metadata": {},
   "outputs": [
    {
     "name": "stdout",
     "output_type": "stream",
     "text": [
      "        year     name sex_x soundex sex_y  number\n",
      "0       1880     John   boy    J500   boy 9654.86\n",
      "1       1880     John   boy    J500  girl 7958.89\n",
      "2       1880  William   boy    W450   boy 9532.90\n",
      "3       1880  William   boy    W450  girl 7858.36\n",
      "4       1880    James   boy    J520   boy 5927.00\n",
      "...      ...      ...   ...     ...   ...     ...\n",
      "515997  2008   Sloane  girl    S450  girl  263.24\n",
      "515998  2008  Elianna  girl    E450   boy  275.56\n",
      "515999  2008  Elianna  girl    E450  girl  263.24\n",
      "516000  2009      NaN   NaN     NaN   boy     NaN\n",
      "516001  2009      NaN   NaN     NaN  girl     NaN\n",
      "\n",
      "[516002 rows x 6 columns]\n",
      "--------------------------------------------\n",
      "J500\n"
     ]
    }
   ],
   "source": [
    "births = pd.read_csv(\"./Data/births.csv\")\n",
    "joined = bnames.merge(births, on=\"year\", how=\"outer\")\n",
    "joined[\"number\"] = joined[\"prop\"] * joined[\"births\"]\n",
    "joined = joined.drop([\"prop\", \"births\"], axis=1)\n",
    "print(joined)\n",
    "\n",
    "print(\"--------------------------------------------\")\n",
    "\n",
    "soundex = joined.groupby(\"soundex\").number.aggregate(sum=\"sum\")\n",
    "sorted = soundex.sort_values(\"sum\", ascending=False)\n",
    "print(sorted[\"sum\"].idxmax())"
   ]
  }
 ],
 "metadata": {
  "kernelspec": {
   "display_name": "venv",
   "language": "python",
   "name": "python3"
  },
  "language_info": {
   "codemirror_mode": {
    "name": "ipython",
    "version": 3
   },
   "file_extension": ".py",
   "mimetype": "text/x-python",
   "name": "python",
   "nbconvert_exporter": "python",
   "pygments_lexer": "ipython3",
   "version": "3.10.0"
  }
 },
 "nbformat": 4,
 "nbformat_minor": 2
}
